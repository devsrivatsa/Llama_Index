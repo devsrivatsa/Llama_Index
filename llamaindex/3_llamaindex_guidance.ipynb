{
 "cells": [
  {
   "cell_type": "code",
   "execution_count": 4,
   "metadata": {},
   "outputs": [],
   "source": [
    "import os\n",
    "from dotenv import load_dotenv\n",
    "import openai\n",
    "\n",
    "load_dotenv()\n",
    "openai.api_key = os.getenv(\"OPENAI_API_KEY\")"
   ]
  },
  {
   "cell_type": "code",
   "execution_count": 9,
   "metadata": {},
   "outputs": [],
   "source": [
    "from llama_index.llms import OpenAI\n",
    "from llama_index.response.pprint_utils import pprint_response\n",
    "from llama_index.tools import QueryEngineTool"
   ]
  },
  {
   "cell_type": "code",
   "execution_count": 3,
   "metadata": {},
   "outputs": [],
   "source": [
    "from guidance.models import OpenAI as GuidanceOpenAI\n",
    "from llama_index.question_gen.guidance_generator import GuidanceQuestionGenerator\n",
    "from llama_index.tools import ToolMetadata\n",
    "from llama_index import QueryBundle"
   ]
  },
  {
   "cell_type": "code",
   "execution_count": null,
   "metadata": {},
   "outputs": [],
   "source": [
    "#dont run\n",
    "\n",
    "tools = [\n",
    "    ToolMetadata(\n",
    "        name=\"lyft_10k\",\n",
    "        description=\"Provides information about Lyft financials for year 2021\",\n",
    "    ),\n",
    "    ToolMetadata(\n",
    "        name=\"uber_10k\",\n",
    "        description=\"Provides information about Uber financials for year 2021\",\n",
    "    ),\n",
    "]\n",
    "\n",
    "question_gen = GuidanceQuestionGenerator.from_defaults(\n",
    "    guidance_llm = GuidanceOpenAI(model=\"text-davinci-003\"),\n",
    "    verbose=False\n",
    ")\n",
    "\n",
    "\n",
    "# sub_questions = question_gen.generate(\n",
    "#     tools=tools,\n",
    "#     query=QueryBundle(\"Compare and contrast apple and google financials for year 2023\")\n",
    "# )"
   ]
  },
  {
   "cell_type": "code",
   "execution_count": 6,
   "metadata": {},
   "outputs": [],
   "source": [
    "from llama_index.query_engine import SubQuestionQueryEngine"
   ]
  },
  {
   "cell_type": "code",
   "execution_count": null,
   "metadata": {},
   "outputs": [],
   "source": [
    "#dont run\n",
    "\n",
    "#get or create index; then create query engines\n",
    "query_engine_1 = \"query_engine_1\"\n",
    "query_engine_2 = \"query_engine_2\"\n",
    "\n",
    "#construct query_tool_list\n",
    "query_engine_tools = [\n",
    "    QueryEngineTool(\n",
    "        query_engine=query_engine_1,\n",
    "        metadata=ToolMetadata(\n",
    "            name=\"query_tool_1\",\n",
    "            description=\"blah blah\"\n",
    "        )\n",
    "    ),\n",
    "    QueryEngineTool(\n",
    "        query_engine=query_engine_2,\n",
    "        metadata=ToolMetadata(\n",
    "            name=\"query_tool_2\",\n",
    "            description=\"blah blah blah\"\n",
    "        )\n",
    "    )\n",
    "]\n",
    "\n",
    "#create subquery enine\n",
    "sub_ques_eng = SubQuestionQueryEngine.from_defaults(\n",
    "    question_gen=question_gen,\n",
    "    query_engine_tools=query_engine_tools\n",
    ")\n",
    "\n",
    "## response = sub_ques_eng.query(\"mio-mao\")"
   ]
  },
  {
   "cell_type": "markdown",
   "metadata": {},
   "source": [
    "#### DataFrame Structured data extraction"
   ]
  },
  {
   "cell_type": "code",
   "execution_count": 7,
   "metadata": {},
   "outputs": [],
   "source": [
    "from llama_index.program import (\n",
    "    OpenAIPydanticProgram,\n",
    "    GuidancePydanticProgram,\n",
    "    DFRowsProgram,\n",
    "    DFFullProgram,\n",
    "    DataFrameRowsOnly,\n",
    "    DataFrame\n",
    ")"
   ]
  },
  {
   "cell_type": "code",
   "execution_count": 12,
   "metadata": {},
   "outputs": [],
   "source": [
    "program = OpenAIPydanticProgram.from_defaults(\n",
    "    output_cls=DataFrame,\n",
    "    llm=OpenAI(temperature=0, model=\"gpt-4-0613\"),\n",
    "    prompt_template_str=(\n",
    "        \"Please extract the following query into structured data according\"\n",
    "        \" to: {input_str}. Please extract both the set of column names and a\"\n",
    "        \" set of rows\"\n",
    "    ),\n",
    "    verbose=True\n",
    ")\n",
    "\n",
    "response_obj = program(\n",
    "    input_str=\"\"\"My name is John and I am 25 years old. I live in \n",
    "        New York and I like to play basketball. His name is \n",
    "        Mike and he is 30 years old. He lives in San Francisco \n",
    "        and he likes to play baseball. Sarah is 20 years old \n",
    "        and she lives in Los Angeles. She likes to play tennis.\n",
    "        Her name is Mary and she is 35 years old. \n",
    "        She lives in Chicago.\"\"\"\n",
    ")\n"
   ]
  },
  {
   "cell_type": "code",
   "execution_count": 15,
   "metadata": {},
   "outputs": [
    {
     "data": {
      "text/html": [
       "<div>\n",
       "<style scoped>\n",
       "    .dataframe tbody tr th:only-of-type {\n",
       "        vertical-align: middle;\n",
       "    }\n",
       "\n",
       "    .dataframe tbody tr th {\n",
       "        vertical-align: top;\n",
       "    }\n",
       "\n",
       "    .dataframe thead th {\n",
       "        text-align: right;\n",
       "    }\n",
       "</style>\n",
       "<table border=\"1\" class=\"dataframe\">\n",
       "  <thead>\n",
       "    <tr style=\"text-align: right;\">\n",
       "      <th></th>\n",
       "      <th>Name</th>\n",
       "      <th>Age</th>\n",
       "      <th>City</th>\n",
       "      <th>Hobby</th>\n",
       "    </tr>\n",
       "  </thead>\n",
       "  <tbody>\n",
       "    <tr>\n",
       "      <th>0</th>\n",
       "      <td>John</td>\n",
       "      <td>25</td>\n",
       "      <td>New York</td>\n",
       "      <td>Basketball</td>\n",
       "    </tr>\n",
       "    <tr>\n",
       "      <th>1</th>\n",
       "      <td>Mike</td>\n",
       "      <td>30</td>\n",
       "      <td>San Francisco</td>\n",
       "      <td>Baseball</td>\n",
       "    </tr>\n",
       "    <tr>\n",
       "      <th>2</th>\n",
       "      <td>Sarah</td>\n",
       "      <td>20</td>\n",
       "      <td>Los Angeles</td>\n",
       "      <td>Tennis</td>\n",
       "    </tr>\n",
       "    <tr>\n",
       "      <th>3</th>\n",
       "      <td>Mary</td>\n",
       "      <td>35</td>\n",
       "      <td>Chicago</td>\n",
       "      <td>Not specified</td>\n",
       "    </tr>\n",
       "  </tbody>\n",
       "</table>\n",
       "</div>"
      ],
      "text/plain": [
       "    Name  Age           City          Hobby\n",
       "0   John   25       New York     Basketball\n",
       "1   Mike   30  San Francisco       Baseball\n",
       "2  Sarah   20    Los Angeles         Tennis\n",
       "3   Mary   35        Chicago  Not specified"
      ]
     },
     "execution_count": 15,
     "metadata": {},
     "output_type": "execute_result"
    }
   ],
   "source": [
    "response_obj.to_df()"
   ]
  },
  {
   "cell_type": "markdown",
   "metadata": {},
   "source": [
    "#### DataFrame Programs"
   ]
  },
  {
   "cell_type": "code",
   "execution_count": 19,
   "metadata": {},
   "outputs": [],
   "source": [
    "import pandas as pd\n",
    "\n",
    "df = pd.DataFrame({\n",
    "    \"name\":pd.Series(dtype=\"str\"),\n",
    "    \"age\":pd.Series(dtype=\"str\"),\n",
    "    \"city\":pd.Series(dtype=\"str\"),\n",
    "    \"fav sport\":pd.Series(dtype=\"str\")\n",
    "})\n",
    "\n",
    "df_rows_program = DFRowsProgram.from_defaults(\n",
    "    pydantic_program_cls=OpenAIPydanticProgram,\n",
    "    df=df\n",
    ")\n",
    "\n",
    "result_obj = df_rows_program(\n",
    "    input_str=\"\"\"My name is John and I am 25 years old. I live in \n",
    "        New York and I like to play basketball. His name is \n",
    "        Mike and he is 30 years old. He lives in San Francisco \n",
    "        and he likes to play baseball. Sarah is 20 years old \n",
    "        and she lives in Los Angeles. She likes to play tennis.\n",
    "        Her name is Mary and she is 35 years old. \n",
    "        She lives in Chicago.\"\"\"\n",
    ")"
   ]
  },
  {
   "cell_type": "code",
   "execution_count": 29,
   "metadata": {},
   "outputs": [
    {
     "data": {
      "text/html": [
       "<div>\n",
       "<style scoped>\n",
       "    .dataframe tbody tr th:only-of-type {\n",
       "        vertical-align: middle;\n",
       "    }\n",
       "\n",
       "    .dataframe tbody tr th {\n",
       "        vertical-align: top;\n",
       "    }\n",
       "\n",
       "    .dataframe thead th {\n",
       "        text-align: right;\n",
       "    }\n",
       "</style>\n",
       "<table border=\"1\" class=\"dataframe\">\n",
       "  <thead>\n",
       "    <tr style=\"text-align: right;\">\n",
       "      <th></th>\n",
       "      <th>0</th>\n",
       "      <th>1</th>\n",
       "      <th>2</th>\n",
       "      <th>3</th>\n",
       "    </tr>\n",
       "  </thead>\n",
       "  <tbody>\n",
       "    <tr>\n",
       "      <th>0</th>\n",
       "      <td>John</td>\n",
       "      <td>25</td>\n",
       "      <td>New York</td>\n",
       "      <td>basketball</td>\n",
       "    </tr>\n",
       "    <tr>\n",
       "      <th>1</th>\n",
       "      <td>Mike</td>\n",
       "      <td>30</td>\n",
       "      <td>San Francisco</td>\n",
       "      <td>baseball</td>\n",
       "    </tr>\n",
       "    <tr>\n",
       "      <th>2</th>\n",
       "      <td>Sarah</td>\n",
       "      <td>20</td>\n",
       "      <td>Los Angeles</td>\n",
       "      <td>tennis</td>\n",
       "    </tr>\n",
       "    <tr>\n",
       "      <th>3</th>\n",
       "      <td>Mary</td>\n",
       "      <td>35</td>\n",
       "      <td>Chicago</td>\n",
       "      <td></td>\n",
       "    </tr>\n",
       "  </tbody>\n",
       "</table>\n",
       "</div>"
      ],
      "text/plain": [
       "       0   1              2           3\n",
       "0   John  25       New York  basketball\n",
       "1   Mike  30  San Francisco    baseball\n",
       "2  Sarah  20    Los Angeles      tennis\n",
       "3   Mary  35        Chicago            "
      ]
     },
     "execution_count": 29,
     "metadata": {},
     "output_type": "execute_result"
    }
   ],
   "source": [
    "result_obj.to_df()"
   ]
  },
  {
   "cell_type": "markdown",
   "metadata": {},
   "source": [
    "checkout evaporate!"
   ]
  },
  {
   "cell_type": "markdown",
   "metadata": {},
   "source": [
    "#### Get pydantic outputs from query engines"
   ]
  },
  {
   "cell_type": "code",
   "execution_count": 30,
   "metadata": {},
   "outputs": [],
   "source": [
    "from typing import List\n",
    "from pydantic import BaseModel\n",
    "\n",
    "class Biography(BaseModel):\n",
    "    \"\"\"Data model for a biography.\"\"\"\n",
    "\n",
    "    name: str\n",
    "    best_known_for: List[str]\n",
    "    extra_info: str"
   ]
  },
  {
   "cell_type": "code",
   "execution_count": 37,
   "metadata": {},
   "outputs": [],
   "source": [
    "#dont run\n",
    "from llama_index import (\n",
    "    load_index_from_storage,\n",
    "    load_indices_from_storage,\n",
    "    StorageContext\n",
    ")\n",
    "\n",
    "index = load_index_from_storage(\n",
    "    storage_context = StorageContext.from_defaults(persist_dir=\"./research_paper_index\"),\n",
    "    index_id=\"graph_of_thoughts\"\n",
    ")\n",
    "\n",
    "query_engine = index.as_query_engine(\n",
    "    resonse_mode=\"tree_summarize\",\n",
    "    output_cls=Biography\n",
    ")\n",
    "\n",
    "# response = query_engine.query(\"Who is Paul Graham?\")"
   ]
  },
  {
   "cell_type": "code",
   "execution_count": null,
   "metadata": {},
   "outputs": [],
   "source": []
  },
  {
   "cell_type": "code",
   "execution_count": null,
   "metadata": {},
   "outputs": [],
   "source": []
  },
  {
   "cell_type": "code",
   "execution_count": null,
   "metadata": {},
   "outputs": [],
   "source": []
  },
  {
   "cell_type": "code",
   "execution_count": null,
   "metadata": {},
   "outputs": [],
   "source": []
  },
  {
   "cell_type": "code",
   "execution_count": null,
   "metadata": {},
   "outputs": [],
   "source": []
  },
  {
   "cell_type": "code",
   "execution_count": null,
   "metadata": {},
   "outputs": [],
   "source": []
  },
  {
   "cell_type": "code",
   "execution_count": null,
   "metadata": {},
   "outputs": [],
   "source": []
  },
  {
   "cell_type": "code",
   "execution_count": null,
   "metadata": {},
   "outputs": [],
   "source": []
  },
  {
   "cell_type": "code",
   "execution_count": null,
   "metadata": {},
   "outputs": [],
   "source": []
  },
  {
   "cell_type": "code",
   "execution_count": null,
   "metadata": {},
   "outputs": [],
   "source": []
  },
  {
   "cell_type": "code",
   "execution_count": null,
   "metadata": {},
   "outputs": [],
   "source": []
  },
  {
   "cell_type": "code",
   "execution_count": null,
   "metadata": {},
   "outputs": [],
   "source": []
  },
  {
   "cell_type": "code",
   "execution_count": null,
   "metadata": {},
   "outputs": [],
   "source": []
  },
  {
   "cell_type": "code",
   "execution_count": null,
   "metadata": {},
   "outputs": [],
   "source": []
  },
  {
   "cell_type": "code",
   "execution_count": null,
   "metadata": {},
   "outputs": [],
   "source": []
  },
  {
   "cell_type": "code",
   "execution_count": null,
   "metadata": {},
   "outputs": [],
   "source": []
  }
 ],
 "metadata": {
  "kernelspec": {
   "display_name": ".venv",
   "language": "python",
   "name": "python3"
  },
  "language_info": {
   "codemirror_mode": {
    "name": "ipython",
    "version": 3
   },
   "file_extension": ".py",
   "mimetype": "text/x-python",
   "name": "python",
   "nbconvert_exporter": "python",
   "pygments_lexer": "ipython3",
   "version": "3.9.13"
  }
 },
 "nbformat": 4,
 "nbformat_minor": 2
}
