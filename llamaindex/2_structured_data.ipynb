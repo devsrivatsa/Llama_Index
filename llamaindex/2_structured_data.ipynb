{
 "cells": [
  {
   "cell_type": "code",
   "execution_count": 1,
   "metadata": {},
   "outputs": [],
   "source": [
    "from sqlalchemy import (\n",
    "    create_engine,\n",
    "    MetaData,\n",
    "    Table,\n",
    "    Column,\n",
    "    String,\n",
    "    Integer,\n",
    "    select,\n",
    "    insert,\n",
    "    column\n",
    ")"
   ]
  },
  {
   "cell_type": "code",
   "execution_count": 2,
   "metadata": {},
   "outputs": [],
   "source": [
    "engine = create_engine(\"sqlite+pysqlite:///:memory:\", echo=True)\n",
    "metadata_obj = MetaData()"
   ]
  },
  {
   "cell_type": "code",
   "execution_count": 7,
   "metadata": {},
   "outputs": [
    {
     "name": "stdout",
     "output_type": "stream",
     "text": [
      "2023-11-26 14:03:23,529 INFO sqlalchemy.engine.Engine BEGIN (implicit)\n",
      "2023-11-26 14:03:23,530 INFO sqlalchemy.engine.Engine PRAGMA main.table_info(\"city_states\")\n",
      "2023-11-26 14:03:23,531 INFO sqlalchemy.engine.Engine [raw sql] ()\n",
      "2023-11-26 14:03:23,532 INFO sqlalchemy.engine.Engine PRAGMA temp.table_info(\"city_states\")\n",
      "2023-11-26 14:03:23,532 INFO sqlalchemy.engine.Engine [raw sql] ()\n",
      "2023-11-26 14:03:23,533 INFO sqlalchemy.engine.Engine \n",
      "CREATE TABLE city_states (\n",
      "\tcity_name VARCHAR(16) NOT NULL, \n",
      "\tpopulation INTEGER, \n",
      "\tcountry VARCHAR(16) NOT NULL, \n",
      "\tPRIMARY KEY (city_name)\n",
      ")\n",
      "\n",
      "\n",
      "2023-11-26 14:03:23,534 INFO sqlalchemy.engine.Engine [no key 0.00041s] ()\n",
      "2023-11-26 14:03:23,535 INFO sqlalchemy.engine.Engine COMMIT\n"
     ]
    }
   ],
   "source": [
    "city_states_table = Table(\n",
    "    \"city_states\",\n",
    "    metadata_obj,\n",
    "    Column(\"city_name\", String(16), primary_key=True),\n",
    "    Column(\"population\", Integer),\n",
    "    Column(\"country\", String(16), nullable=False)\n",
    ")\n",
    "metadata_obj.create_all(engine)"
   ]
  },
  {
   "cell_type": "code",
   "execution_count": 8,
   "metadata": {},
   "outputs": [
    {
     "name": "stdout",
     "output_type": "stream",
     "text": [
      "2023-11-26 14:03:26,959 INFO sqlalchemy.engine.Engine BEGIN (implicit)\n",
      "2023-11-26 14:03:26,961 INFO sqlalchemy.engine.Engine INSERT INTO city_states (city_name, population, country) VALUES (?, ?, ?)\n",
      "2023-11-26 14:03:26,961 INFO sqlalchemy.engine.Engine [generated in 0.00059s] ('Toronto', 2731571, 'Canada')\n",
      "2023-11-26 14:03:26,962 INFO sqlalchemy.engine.Engine COMMIT\n",
      "2023-11-26 14:03:26,963 INFO sqlalchemy.engine.Engine BEGIN (implicit)\n",
      "2023-11-26 14:03:26,963 INFO sqlalchemy.engine.Engine INSERT INTO city_states (city_name, population, country) VALUES (?, ?, ?)\n",
      "2023-11-26 14:03:26,964 INFO sqlalchemy.engine.Engine [cached since 0.002948s ago] ('Tokyo', 13929286, 'Japan')\n",
      "2023-11-26 14:03:26,964 INFO sqlalchemy.engine.Engine COMMIT\n",
      "2023-11-26 14:03:26,965 INFO sqlalchemy.engine.Engine BEGIN (implicit)\n",
      "2023-11-26 14:03:26,965 INFO sqlalchemy.engine.Engine INSERT INTO city_states (city_name, population, country) VALUES (?, ?, ?)\n",
      "2023-11-26 14:03:26,966 INFO sqlalchemy.engine.Engine [cached since 0.004821s ago] ('Berlin', 600000, 'Germany')\n",
      "2023-11-26 14:03:26,967 INFO sqlalchemy.engine.Engine COMMIT\n"
     ]
    }
   ],
   "source": [
    "rows = [\n",
    "    {\"city_name\": \"Toronto\", \"population\": 2731571, \"country\": \"Canada\"},\n",
    "    {\"city_name\": \"Tokyo\", \"population\": 13929286, \"country\": \"Japan\"},\n",
    "    {\"city_name\": \"Berlin\", \"population\": 600000, \"country\": \"Germany\"},\n",
    "]\n",
    "\n",
    "for row in rows:\n",
    "    stmt = insert(city_states_table).values(**row)\n",
    "    with engine.begin() as connection:\n",
    "        cursor = connection.execute(stmt)"
   ]
  },
  {
   "cell_type": "code",
   "execution_count": 5,
   "metadata": {},
   "outputs": [],
   "source": [
    "import os\n",
    "from dotenv import load_dotenv\n",
    "import openai\n",
    "\n",
    "load_dotenv()\n",
    "openai.api_key = os.getenv(\"OPENAI_API_KEY\")"
   ]
  },
  {
   "cell_type": "code",
   "execution_count": 9,
   "metadata": {},
   "outputs": [
    {
     "name": "stdout",
     "output_type": "stream",
     "text": [
      "2023-11-26 14:03:32,753 INFO sqlalchemy.engine.Engine BEGIN (implicit)\n",
      "2023-11-26 14:03:32,754 INFO sqlalchemy.engine.Engine SELECT name FROM sqlite_master WHERE type='table' AND name NOT LIKE 'sqlite~_%' ESCAPE '~' ORDER BY name\n",
      "2023-11-26 14:03:32,754 INFO sqlalchemy.engine.Engine [raw sql] ()\n",
      "2023-11-26 14:03:32,756 INFO sqlalchemy.engine.Engine ROLLBACK\n",
      "2023-11-26 14:03:32,756 INFO sqlalchemy.engine.Engine BEGIN (implicit)\n",
      "2023-11-26 14:03:32,756 INFO sqlalchemy.engine.Engine SELECT name FROM sqlite_master WHERE type='table' AND name NOT LIKE 'sqlite~_%' ESCAPE '~' ORDER BY name\n",
      "2023-11-26 14:03:32,757 INFO sqlalchemy.engine.Engine [raw sql] ()\n",
      "2023-11-26 14:03:32,757 INFO sqlalchemy.engine.Engine SELECT name FROM sqlite_temp_master WHERE type='table' AND name NOT LIKE 'sqlite~_%' ESCAPE '~' ORDER BY name\n",
      "2023-11-26 14:03:32,758 INFO sqlalchemy.engine.Engine [raw sql] ()\n",
      "2023-11-26 14:03:32,759 INFO sqlalchemy.engine.Engine PRAGMA main.table_xinfo(\"city_states\")\n",
      "2023-11-26 14:03:32,759 INFO sqlalchemy.engine.Engine [raw sql] ()\n",
      "2023-11-26 14:03:32,760 INFO sqlalchemy.engine.Engine SELECT sql FROM  (SELECT * FROM sqlite_master UNION ALL   SELECT * FROM sqlite_temp_master) WHERE name = ? AND type in ('table', 'view')\n",
      "2023-11-26 14:03:32,761 INFO sqlalchemy.engine.Engine [raw sql] ('city_states',)\n",
      "2023-11-26 14:03:32,761 INFO sqlalchemy.engine.Engine PRAGMA main.foreign_key_list(\"city_states\")\n",
      "2023-11-26 14:03:32,762 INFO sqlalchemy.engine.Engine [raw sql] ()\n",
      "2023-11-26 14:03:32,763 INFO sqlalchemy.engine.Engine PRAGMA temp.foreign_key_list(\"city_states\")\n",
      "2023-11-26 14:03:32,763 INFO sqlalchemy.engine.Engine [raw sql] ()\n",
      "2023-11-26 14:03:32,764 INFO sqlalchemy.engine.Engine SELECT sql FROM  (SELECT * FROM sqlite_master UNION ALL   SELECT * FROM sqlite_temp_master) WHERE name = ? AND type in ('table', 'view')\n",
      "2023-11-26 14:03:32,764 INFO sqlalchemy.engine.Engine [raw sql] ('city_states',)\n",
      "2023-11-26 14:03:32,765 INFO sqlalchemy.engine.Engine PRAGMA main.index_list(\"city_states\")\n",
      "2023-11-26 14:03:32,766 INFO sqlalchemy.engine.Engine [raw sql] ()\n",
      "2023-11-26 14:03:32,766 INFO sqlalchemy.engine.Engine PRAGMA main.table_info(\"city_states\")\n",
      "2023-11-26 14:03:32,766 INFO sqlalchemy.engine.Engine [raw sql] ()\n",
      "2023-11-26 14:03:32,768 INFO sqlalchemy.engine.Engine PRAGMA main.index_list(\"city_states\")\n",
      "2023-11-26 14:03:32,768 INFO sqlalchemy.engine.Engine [raw sql] ()\n",
      "2023-11-26 14:03:32,769 INFO sqlalchemy.engine.Engine PRAGMA main.index_info(\"sqlite_autoindex_city_states_1\")\n",
      "2023-11-26 14:03:32,769 INFO sqlalchemy.engine.Engine [raw sql] ()\n",
      "2023-11-26 14:03:32,769 INFO sqlalchemy.engine.Engine SELECT sql FROM  (SELECT * FROM sqlite_master UNION ALL   SELECT * FROM sqlite_temp_master) WHERE name = ? AND type in ('table', 'view')\n",
      "2023-11-26 14:03:32,770 INFO sqlalchemy.engine.Engine [raw sql] ('city_states',)\n",
      "2023-11-26 14:03:32,771 INFO sqlalchemy.engine.Engine ROLLBACK\n"
     ]
    }
   ],
   "source": [
    "from llama_index import SQLDatabase, VectorStoreIndex\n",
    "\n",
    "sql_database = SQLDatabase(engine, include_tables=[\"city_states\"])"
   ]
  },
  {
   "cell_type": "markdown",
   "metadata": {},
   "source": [
    "#### Straight Forward way to Query a Table"
   ]
  },
  {
   "cell_type": "code",
   "execution_count": 12,
   "metadata": {},
   "outputs": [],
   "source": [
    "from llama_index.indices.struct_store import NLSQLTableQueryEngine\n",
    "\n",
    "query_engine = NLSQLTableQueryEngine(\n",
    "    sql_database=sql_database,\n",
    "    tables=[\"city_states\"]\n",
    ")"
   ]
  },
  {
   "cell_type": "code",
   "execution_count": 13,
   "metadata": {},
   "outputs": [
    {
     "name": "stdout",
     "output_type": "stream",
     "text": [
      "2023-11-26 00:56:05,996 INFO sqlalchemy.engine.Engine BEGIN (implicit)\n",
      "2023-11-26 00:56:05,996 INFO sqlalchemy.engine.Engine PRAGMA main.table_xinfo(\"city_states\")\n",
      "2023-11-26 00:56:05,997 INFO sqlalchemy.engine.Engine [raw sql] ()\n",
      "2023-11-26 00:56:05,997 INFO sqlalchemy.engine.Engine ROLLBACK\n",
      "2023-11-26 00:56:05,998 INFO sqlalchemy.engine.Engine BEGIN (implicit)\n",
      "2023-11-26 00:56:05,998 INFO sqlalchemy.engine.Engine PRAGMA main.foreign_key_list(\"city_states\")\n",
      "2023-11-26 00:56:05,998 INFO sqlalchemy.engine.Engine [raw sql] ()\n",
      "2023-11-26 00:56:05,998 INFO sqlalchemy.engine.Engine PRAGMA temp.foreign_key_list(\"city_states\")\n",
      "2023-11-26 00:56:05,999 INFO sqlalchemy.engine.Engine [raw sql] ()\n",
      "2023-11-26 00:56:05,999 INFO sqlalchemy.engine.Engine SELECT sql FROM  (SELECT * FROM sqlite_master UNION ALL   SELECT * FROM sqlite_temp_master) WHERE name = ? AND type in ('table', 'view')\n",
      "2023-11-26 00:56:05,999 INFO sqlalchemy.engine.Engine [raw sql] ('city_states',)\n",
      "2023-11-26 00:56:06,000 INFO sqlalchemy.engine.Engine ROLLBACK\n",
      "2023-11-26 00:56:08,728 INFO sqlalchemy.engine.Engine BEGIN (implicit)\n",
      "2023-11-26 00:56:08,730 INFO sqlalchemy.engine.Engine SELECT city_name\n",
      "FROM city_states\n",
      "ORDER BY population DESC\n",
      "LIMIT 1;\n",
      "2023-11-26 00:56:08,730 INFO sqlalchemy.engine.Engine [generated in 0.00049s] ()\n",
      "2023-11-26 00:56:08,731 INFO sqlalchemy.engine.Engine COMMIT\n"
     ]
    }
   ],
   "source": [
    "query_str = \"Which city has the highest population?\"\n",
    "response = query_engine.query(query_str)"
   ]
  },
  {
   "cell_type": "code",
   "execution_count": 14,
   "metadata": {},
   "outputs": [
    {
     "name": "stdout",
     "output_type": "stream",
     "text": [
      "The city with the highest population is Tokyo.\n"
     ]
    }
   ],
   "source": [
    "print(response.response)"
   ]
  },
  {
   "cell_type": "markdown",
   "metadata": {},
   "source": [
    "#### Building the table index"
   ]
  },
  {
   "cell_type": "code",
   "execution_count": 16,
   "metadata": {},
   "outputs": [],
   "source": [
    "from llama_index.objects import (\n",
    "    SQLTableNodeMapping,\n",
    "    ObjectIndex,\n",
    "    SQLTableSchema\n",
    ")\n",
    "\n",
    "table_node_mapping = SQLTableNodeMapping(sql_database)\n",
    "table_schema_objs = [\n",
    "    (SQLTableSchema(table_name=\"city_states\"))\n",
    "]\n",
    "\n",
    "obj_index = ObjectIndex.from_objects(\n",
    "    table_schema_objs,\n",
    "    table_node_mapping,\n",
    "    VectorStoreIndex\n",
    ")"
   ]
  },
  {
   "cell_type": "code",
   "execution_count": 17,
   "metadata": {},
   "outputs": [],
   "source": [
    "# manually set extra context text\n",
    "city_stats_text = (\n",
    "    \"This table gives information regarding the population and country of a given city.\\n\"\n",
    "    \"The user will query with codewords, where 'foo' corresponds to population and 'bar'\"\n",
    "    \"corresponds to city.\"\n",
    ")\n",
    "\n",
    "table_node_mapping = SQLTableNodeMapping(sql_database)\n",
    "table_schema_objs = [\n",
    "    (SQLTableSchema(table_name=\"city_stats\", context_str=city_stats_text))\n",
    "]\n"
   ]
  },
  {
   "cell_type": "code",
   "execution_count": 18,
   "metadata": {},
   "outputs": [],
   "source": [
    "from llama_index.indices.struct_store import SQLTableRetrieverQueryEngine\n",
    "\n",
    "query_engine = SQLTableRetrieverQueryEngine(\n",
    "    sql_database, obj_index.as_retriever(similarity_top_k=1)\n",
    ")"
   ]
  },
  {
   "cell_type": "code",
   "execution_count": 19,
   "metadata": {},
   "outputs": [
    {
     "ename": "KeyError",
     "evalue": "'context'",
     "output_type": "error",
     "traceback": [
      "\u001b[0;31m---------------------------------------------------------------------------\u001b[0m",
      "\u001b[0;31mKeyError\u001b[0m                                  Traceback (most recent call last)",
      "\u001b[1;32m/home/srivatsa/my_jupyter_noteboks/llamaindex/llamaindex/2_structured_data.ipynb Cell 14\u001b[0m line \u001b[0;36m1\n\u001b[0;32m----> <a href='vscode-notebook-cell:/home/srivatsa/my_jupyter_noteboks/llamaindex/llamaindex/2_structured_data.ipynb#X20sZmlsZQ%3D%3D?line=0'>1</a>\u001b[0m response \u001b[39m=\u001b[39m query_engine\u001b[39m.\u001b[39;49mquery(\u001b[39m\"\u001b[39;49m\u001b[39mWhich city has the highest population?\u001b[39;49m\u001b[39m\"\u001b[39;49m)\n",
      "File \u001b[0;32m~/my_jupyter_noteboks/llamaindex/.venv/lib/python3.9/site-packages/llama_index/core/base_query_engine.py:30\u001b[0m, in \u001b[0;36mBaseQueryEngine.query\u001b[0;34m(self, str_or_query_bundle)\u001b[0m\n\u001b[1;32m     28\u001b[0m \u001b[39mif\u001b[39;00m \u001b[39misinstance\u001b[39m(str_or_query_bundle, \u001b[39mstr\u001b[39m):\n\u001b[1;32m     29\u001b[0m     str_or_query_bundle \u001b[39m=\u001b[39m QueryBundle(str_or_query_bundle)\n\u001b[0;32m---> 30\u001b[0m \u001b[39mreturn\u001b[39;00m \u001b[39mself\u001b[39;49m\u001b[39m.\u001b[39;49m_query(str_or_query_bundle)\n",
      "File \u001b[0;32m~/my_jupyter_noteboks/llamaindex/.venv/lib/python3.9/site-packages/llama_index/indices/struct_store/sql_query.py:297\u001b[0m, in \u001b[0;36mBaseSQLTableQueryEngine._query\u001b[0;34m(self, query_bundle)\u001b[0m\n\u001b[1;32m    295\u001b[0m \u001b[39mdef\u001b[39;00m \u001b[39m_query\u001b[39m(\u001b[39mself\u001b[39m, query_bundle: QueryBundle) \u001b[39m-\u001b[39m\u001b[39m>\u001b[39m Response:\n\u001b[1;32m    296\u001b[0m \u001b[39m    \u001b[39m\u001b[39m\"\"\"Answer a query.\"\"\"\u001b[39;00m\n\u001b[0;32m--> 297\u001b[0m     retrieved_nodes, metadata \u001b[39m=\u001b[39m \u001b[39mself\u001b[39;49m\u001b[39m.\u001b[39;49msql_retriever\u001b[39m.\u001b[39;49mretrieve_with_metadata(\n\u001b[1;32m    298\u001b[0m         query_bundle\n\u001b[1;32m    299\u001b[0m     )\n\u001b[1;32m    301\u001b[0m     sql_query_str \u001b[39m=\u001b[39m metadata[\u001b[39m\"\u001b[39m\u001b[39msql_query\u001b[39m\u001b[39m\"\u001b[39m]\n\u001b[1;32m    302\u001b[0m     \u001b[39mif\u001b[39;00m \u001b[39mself\u001b[39m\u001b[39m.\u001b[39m_synthesize_response:\n",
      "File \u001b[0;32m~/my_jupyter_noteboks/llamaindex/.venv/lib/python3.9/site-packages/llama_index/indices/struct_store/sql_retriever.py:265\u001b[0m, in \u001b[0;36mNLSQLRetriever.retrieve_with_metadata\u001b[0;34m(self, str_or_query_bundle)\u001b[0m\n\u001b[1;32m    263\u001b[0m \u001b[39melse\u001b[39;00m:\n\u001b[1;32m    264\u001b[0m     query_bundle \u001b[39m=\u001b[39m str_or_query_bundle\n\u001b[0;32m--> 265\u001b[0m table_desc_str \u001b[39m=\u001b[39m \u001b[39mself\u001b[39;49m\u001b[39m.\u001b[39;49m_get_table_context(query_bundle)\n\u001b[1;32m    266\u001b[0m logger\u001b[39m.\u001b[39minfo(\u001b[39mf\u001b[39m\u001b[39m\"\u001b[39m\u001b[39m> Table desc str: \u001b[39m\u001b[39m{\u001b[39;00mtable_desc_str\u001b[39m}\u001b[39;00m\u001b[39m\"\u001b[39m)\n\u001b[1;32m    268\u001b[0m response_str \u001b[39m=\u001b[39m \u001b[39mself\u001b[39m\u001b[39m.\u001b[39m_service_context\u001b[39m.\u001b[39mllm_predictor\u001b[39m.\u001b[39mpredict(\n\u001b[1;32m    269\u001b[0m     \u001b[39mself\u001b[39m\u001b[39m.\u001b[39m_text_to_sql_prompt,\n\u001b[1;32m    270\u001b[0m     query_str\u001b[39m=\u001b[39mquery_bundle\u001b[39m.\u001b[39mquery_str,\n\u001b[1;32m    271\u001b[0m     schema\u001b[39m=\u001b[39mtable_desc_str,\n\u001b[1;32m    272\u001b[0m     dialect\u001b[39m=\u001b[39m\u001b[39mself\u001b[39m\u001b[39m.\u001b[39m_sql_database\u001b[39m.\u001b[39mdialect,\n\u001b[1;32m    273\u001b[0m )\n",
      "File \u001b[0;32m~/my_jupyter_noteboks/llamaindex/.venv/lib/python3.9/site-packages/llama_index/indices/struct_store/sql_retriever.py:349\u001b[0m, in \u001b[0;36mNLSQLRetriever._get_table_context\u001b[0;34m(self, query_bundle)\u001b[0m\n\u001b[1;32m    343\u001b[0m \u001b[39mdef\u001b[39;00m \u001b[39m_get_table_context\u001b[39m(\u001b[39mself\u001b[39m, query_bundle: QueryBundle) \u001b[39m-\u001b[39m\u001b[39m>\u001b[39m \u001b[39mstr\u001b[39m:\n\u001b[1;32m    344\u001b[0m \u001b[39m    \u001b[39m\u001b[39m\"\"\"Get table context.\u001b[39;00m\n\u001b[1;32m    345\u001b[0m \n\u001b[1;32m    346\u001b[0m \u001b[39m    Get tables schema + optional context as a single string.\u001b[39;00m\n\u001b[1;32m    347\u001b[0m \n\u001b[1;32m    348\u001b[0m \u001b[39m    \"\"\"\u001b[39;00m\n\u001b[0;32m--> 349\u001b[0m     table_schema_objs \u001b[39m=\u001b[39m \u001b[39mself\u001b[39;49m\u001b[39m.\u001b[39;49m_get_tables(query_bundle\u001b[39m.\u001b[39;49mquery_str)\n\u001b[1;32m    350\u001b[0m     context_strs \u001b[39m=\u001b[39m []\n\u001b[1;32m    351\u001b[0m     \u001b[39mif\u001b[39;00m \u001b[39mself\u001b[39m\u001b[39m.\u001b[39m_context_str_prefix \u001b[39mis\u001b[39;00m \u001b[39mnot\u001b[39;00m \u001b[39mNone\u001b[39;00m:\n",
      "File \u001b[0;32m~/my_jupyter_noteboks/llamaindex/.venv/lib/python3.9/site-packages/llama_index/indices/struct_store/sql_retriever.py:242\u001b[0m, in \u001b[0;36mNLSQLRetriever._load_get_tables_fn.<locals>.<lambda>\u001b[0;34m(query_str)\u001b[0m\n\u001b[1;32m    240\u001b[0m context_query_kwargs \u001b[39m=\u001b[39m context_query_kwargs \u001b[39mor\u001b[39;00m {}\n\u001b[1;32m    241\u001b[0m \u001b[39mif\u001b[39;00m table_retriever \u001b[39mis\u001b[39;00m \u001b[39mnot\u001b[39;00m \u001b[39mNone\u001b[39;00m:\n\u001b[0;32m--> 242\u001b[0m     \u001b[39mreturn\u001b[39;00m \u001b[39mlambda\u001b[39;00m query_str: cast(Any, table_retriever)\u001b[39m.\u001b[39;49mretrieve(query_str)\n\u001b[1;32m    243\u001b[0m \u001b[39melse\u001b[39;00m:\n\u001b[1;32m    244\u001b[0m     \u001b[39mif\u001b[39;00m tables \u001b[39mis\u001b[39;00m \u001b[39mnot\u001b[39;00m \u001b[39mNone\u001b[39;00m:\n",
      "File \u001b[0;32m~/my_jupyter_noteboks/llamaindex/.venv/lib/python3.9/site-packages/llama_index/objects/base.py:28\u001b[0m, in \u001b[0;36mObjectRetriever.retrieve\u001b[0;34m(self, str_or_query_bundle)\u001b[0m\n\u001b[1;32m     26\u001b[0m \u001b[39mdef\u001b[39;00m \u001b[39mretrieve\u001b[39m(\u001b[39mself\u001b[39m, str_or_query_bundle: QueryType) \u001b[39m-\u001b[39m\u001b[39m>\u001b[39m List[OT]:\n\u001b[1;32m     27\u001b[0m     nodes \u001b[39m=\u001b[39m \u001b[39mself\u001b[39m\u001b[39m.\u001b[39m_retriever\u001b[39m.\u001b[39mretrieve(str_or_query_bundle)\n\u001b[0;32m---> 28\u001b[0m     \u001b[39mreturn\u001b[39;00m [\u001b[39mself\u001b[39m\u001b[39m.\u001b[39m_object_node_mapping\u001b[39m.\u001b[39mfrom_node(node\u001b[39m.\u001b[39mnode) \u001b[39mfor\u001b[39;00m node \u001b[39min\u001b[39;00m nodes]\n",
      "File \u001b[0;32m~/my_jupyter_noteboks/llamaindex/.venv/lib/python3.9/site-packages/llama_index/objects/base.py:28\u001b[0m, in \u001b[0;36m<listcomp>\u001b[0;34m(.0)\u001b[0m\n\u001b[1;32m     26\u001b[0m \u001b[39mdef\u001b[39;00m \u001b[39mretrieve\u001b[39m(\u001b[39mself\u001b[39m, str_or_query_bundle: QueryType) \u001b[39m-\u001b[39m\u001b[39m>\u001b[39m List[OT]:\n\u001b[1;32m     27\u001b[0m     nodes \u001b[39m=\u001b[39m \u001b[39mself\u001b[39m\u001b[39m.\u001b[39m_retriever\u001b[39m.\u001b[39mretrieve(str_or_query_bundle)\n\u001b[0;32m---> 28\u001b[0m     \u001b[39mreturn\u001b[39;00m [\u001b[39mself\u001b[39;49m\u001b[39m.\u001b[39;49m_object_node_mapping\u001b[39m.\u001b[39;49mfrom_node(node\u001b[39m.\u001b[39;49mnode) \u001b[39mfor\u001b[39;00m node \u001b[39min\u001b[39;00m nodes]\n",
      "File \u001b[0;32m~/my_jupyter_noteboks/llamaindex/.venv/lib/python3.9/site-packages/llama_index/objects/base_node_mapping.py:57\u001b[0m, in \u001b[0;36mBaseObjectNodeMapping.from_node\u001b[0;34m(self, node)\u001b[0m\n\u001b[1;32m     55\u001b[0m \u001b[39mdef\u001b[39;00m \u001b[39mfrom_node\u001b[39m(\u001b[39mself\u001b[39m, node: BaseNode) \u001b[39m-\u001b[39m\u001b[39m>\u001b[39m OT:\n\u001b[1;32m     56\u001b[0m \u001b[39m    \u001b[39m\u001b[39m\"\"\"From node.\"\"\"\u001b[39;00m\n\u001b[0;32m---> 57\u001b[0m     obj \u001b[39m=\u001b[39m \u001b[39mself\u001b[39;49m\u001b[39m.\u001b[39;49m_from_node(node)\n\u001b[1;32m     58\u001b[0m     \u001b[39mself\u001b[39m\u001b[39m.\u001b[39mvalidate_object(obj)\n\u001b[1;32m     59\u001b[0m     \u001b[39mreturn\u001b[39;00m obj\n",
      "File \u001b[0;32m~/my_jupyter_noteboks/llamaindex/.venv/lib/python3.9/site-packages/llama_index/objects/table_node_mapping.py:68\u001b[0m, in \u001b[0;36mSQLTableNodeMapping._from_node\u001b[0;34m(self, node)\u001b[0m\n\u001b[1;32m     65\u001b[0m \u001b[39mif\u001b[39;00m node\u001b[39m.\u001b[39mmetadata \u001b[39mis\u001b[39;00m \u001b[39mNone\u001b[39;00m:\n\u001b[1;32m     66\u001b[0m     \u001b[39mraise\u001b[39;00m \u001b[39mValueError\u001b[39;00m(\u001b[39m\"\u001b[39m\u001b[39mMetadata must be set\u001b[39m\u001b[39m\"\u001b[39m)\n\u001b[1;32m     67\u001b[0m \u001b[39mreturn\u001b[39;00m SQLTableSchema(\n\u001b[0;32m---> 68\u001b[0m     table_name\u001b[39m=\u001b[39mnode\u001b[39m.\u001b[39mmetadata[\u001b[39m\"\u001b[39m\u001b[39mname\u001b[39m\u001b[39m\"\u001b[39m], context_str\u001b[39m=\u001b[39mnode\u001b[39m.\u001b[39;49mmetadata[\u001b[39m\"\u001b[39;49m\u001b[39mcontext\u001b[39;49m\u001b[39m\"\u001b[39;49m]\n\u001b[1;32m     69\u001b[0m )\n",
      "\u001b[0;31mKeyError\u001b[0m: 'context'"
     ]
    }
   ],
   "source": [
    "response = query_engine.query(\"Which city has the highest population?\")"
   ]
  },
  {
   "cell_type": "code",
   "execution_count": null,
   "metadata": {},
   "outputs": [],
   "source": []
  }
 ],
 "metadata": {
  "kernelspec": {
   "display_name": ".venv",
   "language": "python",
   "name": "python3"
  },
  "language_info": {
   "codemirror_mode": {
    "name": "ipython",
    "version": 3
   },
   "file_extension": ".py",
   "mimetype": "text/x-python",
   "name": "python",
   "nbconvert_exporter": "python",
   "pygments_lexer": "ipython3",
   "version": "3.9.13"
  }
 },
 "nbformat": 4,
 "nbformat_minor": 2
}
